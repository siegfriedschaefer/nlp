{
 "cells": [
  {
   "cell_type": "markdown",
   "metadata": {},
   "source": [
    "### How do you derivate a function in python?\n",
    "\n",
    "Hello everybody, on my journey to understand Deep learning, I always struggle with\n",
    "my intention to go to the secrets of the mathematical foundations of it.\n",
    "\n",
    "Why do I struggle?\n",
    "\n",
    "Because on one hand you can just use the trained models like llama 2 or gpt4all and\n",
    "enhance them on your needs, which is definitely something you need to understand  how to do this.\n",
    "\n",
    "But by following the recipies on how to use these models, I feel always like the Sorcerer's apprentice who does not know anything about what is really happening.\n",
    "\n",
    "To my rescue I found the youtube explanations of Andrei Karpathy and now I try to digest his wisdom in small steps.\n",
    "\n",
    "First of all, I need to understand the technic of \"Backpropagation\" to train a neural network.\n",
    "\n",
    "Everything starts with the derivation of a function.\n",
    "\n",
    "So let's dive in."
   ]
  },
  {
   "cell_type": "markdown",
   "metadata": {},
   "source": [
    "Lets take the function f(x) = 2*x^2 +5 as an example."
   ]
  },
  {
   "cell_type": "code",
   "execution_count": 1,
   "metadata": {},
   "outputs": [],
   "source": [
    "def f(x):\n",
    "    return 2*x**2+5"
   ]
  },
  {
   "cell_type": "markdown",
   "metadata": {},
   "source": [
    "We can evaluate the value of this function at point 2 just by calling it."
   ]
  },
  {
   "cell_type": "code",
   "execution_count": 5,
   "metadata": {},
   "outputs": [
    {
     "name": "stdout",
     "output_type": "stream",
     "text": [
      "13\n"
     ]
    }
   ],
   "source": [
    "print(f(2))"
   ]
  },
  {
   "cell_type": "markdown",
   "metadata": {},
   "source": [
    "Now let us derivate this function according to x.\n",
    "\n",
    "You remember perhaps the definition of the derivation of a function with one variable x at point x:\n",
    "\n",
    "$\\mathop{\\overset{lim}{ \\scriptsize {h\\to0} }} = \\frac{f(x+h)-f(x)}{h} $\n",
    "\n",
    "So, if you approximate h to zero, the derivation of a function f at point x\n",
    "is the difference of the function at point (x+h) minus the value of the function at point x divided through h.\n",
    "\n",
    "Let us write this in Python:"
   ]
  },
  {
   "cell_type": "code",
   "execution_count": 14,
   "metadata": {},
   "outputs": [],
   "source": [
    "def dfdx(x, h):\n",
    "    return (f(x+h)-f(x))/h"
   ]
  },
  {
   "cell_type": "code",
   "execution_count": 16,
   "metadata": {},
   "outputs": [
    {
     "name": "stdout",
     "output_type": "stream",
     "text": [
      "8.000000182306621\n"
     ]
    }
   ],
   "source": [
    "print(dfdx(2, 0.0000001))\n"
   ]
  },
  {
   "cell_type": "markdown",
   "metadata": {},
   "source": [
    "It is that easy to calculate the derivative of a function at point x.\n",
    "\n",
    "I hope you have learned something useful and as always, you can download this notebook from my github repo at [test](https://github.com)"
   ]
  }
 ],
 "metadata": {
  "kernelspec": {
   "display_name": "nlp",
   "language": "python",
   "name": "python3"
  },
  "language_info": {
   "codemirror_mode": {
    "name": "ipython",
    "version": 3
   },
   "file_extension": ".py",
   "mimetype": "text/x-python",
   "name": "python",
   "nbconvert_exporter": "python",
   "pygments_lexer": "ipython3",
   "version": "3.11.5"
  }
 },
 "nbformat": 4,
 "nbformat_minor": 2
}
